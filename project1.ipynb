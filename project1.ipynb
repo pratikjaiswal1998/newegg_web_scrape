{
 "cells": [
  {
   "cell_type": "code",
   "execution_count": 2,
   "metadata": {},
   "outputs": [
    {
     "name": "stdout",
     "output_type": "stream",
     "text": [
      "Total products: 12\n",
      "\n",
      "brand: GIGABYTE\n",
      "product_name: GIGABYTE Radeon RX 5700 XT GAMING OC 8G Graphics Card, GV-R57XTGAMING OC-8GD\n",
      "shipping: Free Shipping\n",
      "brand: MSI\n",
      "product_name: MSI GeForce GTX 1660 SUPER DirectX 12 GTX 1660 SUPER VENTUS XS OC Video Card\n",
      "shipping: Free Shipping\n",
      "brand: ASUS\n",
      "product_name: ASUS ROG Strix Radeon RX 5700 XT ROG-STRIX-RX5700XT-O8G-GAMING Video Card\n",
      "shipping: Free Shipping\n",
      "brand: MSI\n",
      "product_name: MSI GeForce RTX 2060 DirectX 12 RTX 2060 VENTUS XS 6G OC Video Card\n",
      "shipping: Free Shipping\n",
      "brand: Sapphire Tech\n",
      "product_name: SAPPHIRE PULSE Radeon RX 5600 XT DirectX 12 100419P6GL Video Card\n",
      "shipping: $3.99 Shipping\n",
      "brand: EVGA\n",
      "product_name: EVGA GeForce GTX 1660 XC GAMING, 06G-P4-1163-KR, 6GB GDDR5, HDB Fan\n",
      "shipping: Free Shipping\n",
      "brand: ASRock\n",
      "product_name: ASRock Phantom Gaming D Radeon RX 570 DirectX 12 RX570 8G OC Video Card\n",
      "shipping: $3.99 Shipping\n",
      "brand: ASUS\n",
      "product_name: ASUS TUF Gaming X3 GeForce GTX 1660 SUPER DirectX 12 TUF 3-GTX1660S-O6G-GAMING Video Card\n",
      "shipping: $4.99 Shipping\n",
      "brand: GIGABYTE\n",
      "product_name: GIGABYTE Radeon RX 5700 XT DirectX 12 GV-R57XTGAMING-8GD Video Card\n",
      "shipping: Free Shipping\n",
      "brand: XFX\n",
      "product_name: XFX Radeon RX 5600 XT RX-56XT6DF46 Video Card THICC II PRO-14GBPS 6GB BOOST UP TO 1620M D6  3xDP HDMI\n",
      "shipping: Free Shipping\n",
      "brand: Sapphire Tech\n",
      "product_name: SAPPHIRE PULSE Radeon RX 5500 XT DirectX 12 100418P4GL Video Card\n",
      "shipping: $3.99 Shipping\n",
      "brand: EVGA\n",
      "product_name: EVGA GeForce RTX 2060 XC GAMING, 6GB GDDR6, HDB Fan Graphics Card 06G-P4-2063-KR\n",
      "shipping: Free Shipping\n"
     ]
    }
   ],
   "source": [
    "from urllib.request import urlopen as uReq\n",
    "from bs4 import BeautifulSoup as soup\n",
    "\n",
    "my_url = 'https://www.newegg.com/Video-Cards-Video-Devices/Category/ID-38?Tpk=graphics%20card'\n",
    "\n",
    "#opening connection and grabbing page\n",
    "uClient = uReq(my_url)\n",
    "page_html = uClient.read()\n",
    "uClient.close()\n",
    "\n",
    "#html parser\n",
    "page_soup = soup(page_html, \"html.parser\")\n",
    "\n",
    "#grabbing each product: inspect element krke pata chalega every div class for graphics card\n",
    "containers = page_soup.findAll(\"div\",{\"class\":\"item-container\"})\n",
    "print(\"Total products: \" + str(len(containers)) + \"\\n\")\n",
    "filename = \"products.csv\"\n",
    "f= open(filename, \"w\")\n",
    "headers = \"brand, product_name, shipping\\n\"\n",
    "f.write(headers)\n",
    "\n",
    "\n",
    "for container in containers:\n",
    "    brand_class = container.findAll(\"a\",{\"class\":\"item-brand\"}) \n",
    "    brand = brand_class[0].img[\"title\"]\n",
    "\n",
    "    title_container = container.findAll(\"a\",{\"class\":\"item-title\"})\n",
    "    product_name = title_container[0].text\n",
    "\n",
    "    shipping_container = container.findAll(\"li\",{\"class\":\"price-ship\"})\n",
    "    shipping = shipping_container[0].text.strip()\n",
    "\n",
    "    print(\"brand: \" + brand)\n",
    "    print(\"product_name: \" + product_name)\n",
    "    print(\"shipping: \" + shipping)\n",
    "\n",
    "    f.write(brand + \",\" + product_name.replace(\",\",\"|\") + \",\" + shipping + \"\\n\")\n",
    "\n",
    "f.close()"
   ]
  },
  {
   "cell_type": "code",
   "execution_count": null,
   "metadata": {},
   "outputs": [],
   "source": []
  }
 ],
 "metadata": {
  "kernelspec": {
   "display_name": "Python 3",
   "language": "python",
   "name": "python3"
  },
  "language_info": {
   "codemirror_mode": {
    "name": "ipython",
    "version": 3
   },
   "file_extension": ".py",
   "mimetype": "text/x-python",
   "name": "python",
   "nbconvert_exporter": "python",
   "pygments_lexer": "ipython3",
   "version": "3.7.3"
  }
 },
 "nbformat": 4,
 "nbformat_minor": 2
}
